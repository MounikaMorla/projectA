{
 "cells": [
  {
   "cell_type": "markdown",
   "id": "290610c4-f6f4-49d6-9bdf-50b810a96db0",
   "metadata": {},
   "source": [
    "4 Important Steps in WebScraping:\n",
    "\n",
    "-->Connect to the webpage using requests module\n",
    "-->Fetching and Parsing the data from the webpage using beautifulsoup library\n",
    "-->Analyzing the tags and storing the data in lists format\n",
    "-->Finally we will store the entire data in tabular format (.xlsx/.csv)"
   ]
  },
  {
   "cell_type": "code",
   "execution_count": null,
   "id": "9b1a7651-25c0-4d60-861c-776d7105d5a6",
   "metadata": {},
   "outputs": [],
   "source": []
  }
 ],
 "metadata": {
  "kernelspec": {
   "display_name": "Python 3 (ipykernel)",
   "language": "python",
   "name": "python3"
  },
  "language_info": {
   "codemirror_mode": {
    "name": "ipython",
    "version": 3
   },
   "file_extension": ".py",
   "mimetype": "text/x-python",
   "name": "python",
   "nbconvert_exporter": "python",
   "pygments_lexer": "ipython3",
   "version": "3.10.7"
  }
 },
 "nbformat": 4,
 "nbformat_minor": 5
}
